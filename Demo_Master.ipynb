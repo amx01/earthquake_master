{
 "metadata": {
  "name": ""
 },
 "nbformat": 3,
 "nbformat_minor": 0,
 "worksheets": [
  {
   "cells": [
    {
     "cell_type": "code",
     "collapsed": false,
     "input": [
      "import ecdf_util\n",
      "import gen_util\n",
      "\n",
      "import mda_util\n",
      "#import empiri_model_util as emu\n"
     ],
     "language": "python",
     "metadata": {},
     "outputs": [],
     "prompt_number": 1
    },
    {
     "cell_type": "code",
     "collapsed": false,
     "input": [
      "    #intall requirements\n",
      "#gen_util.prep_env()\n",
      "\n",
      "#Curation Step\n",
      "#grab the needed repos. Does clone/pull depending on if you already have the code\n",
      "gen_util.setup_repos()\n",
      "curation_ret_code = gen_util.curate()\n",
      "\n"
     ],
     "language": "python",
     "metadata": {},
     "outputs": [
      {
       "output_type": "stream",
       "stream": "stdout",
       "text": [
        "TheQuakers folder already exists, pulling instead\n",
        "tristan_quakers pull complete"
       ]
      },
      {
       "output_type": "stream",
       "stream": "stdout",
       "text": [
        "\n",
        "\n",
        ".....\n",
        "\n",
        "tristan_curators folder already exists, pulling instead\n",
        "tristan_curators pull complete"
       ]
      },
      {
       "output_type": "stream",
       "stream": "stdout",
       "text": [
        "\n",
        "Begining raw curation"
       ]
      },
      {
       "output_type": "stream",
       "stream": "stdout",
       "text": [
        "\n",
        "Raw Curation complete"
       ]
      },
      {
       "output_type": "stream",
       "stream": "stdout",
       "text": [
        "\n"
       ]
      },
      {
       "output_type": "stream",
       "stream": "stderr",
       "text": [
        "/usr/local/lib/python2.7/dist-packages/pytz/__init__.py:29: UserWarning: Module dap was already imported from None, but /usr/lib/python2.7/dist-packages is being added to sys.path\n",
        "  from pkg_resources import resource_stream\n"
       ]
      }
     ],
     "prompt_number": 2
    },
    {
     "cell_type": "code",
     "collapsed": false,
     "input": [
      "#ECDF demo\n",
      "#%matplotlib inline\n",
      "\n",
      "#Generate the plots\n",
      "ecdf_util.generate_ecdf_plots()\n",
      "ecdf_util.show_plots()\n"
     ],
     "language": "python",
     "metadata": {},
     "outputs": [
      {
       "output_type": "stream",
       "stream": "stdout",
       "text": [
        "ECDF generated!\n"
       ]
      }
     ],
     "prompt_number": 4
    },
    {
     "cell_type": "code",
     "collapsed": false,
     "input": [
      "#MDA demo\n",
      "\n",
      "#Generate the plots\n",
      "mda_util.generate_MDA_plots()\n",
      "\n",
      "#Show MDADiv model plot\n",
      "mda_util.show_MDAdiv_plot()\n",
      "#Show MDASub plot\n",
      "mda_util.show_MDAsub_plot()\n"
     ],
     "language": "python",
     "metadata": {},
     "outputs": [],
     "prompt_number": "*"
    },
    {
     "cell_type": "code",
     "collapsed": false,
     "input": [],
     "language": "python",
     "metadata": {},
     "outputs": []
    }
   ],
   "metadata": {}
  }
 ]
}